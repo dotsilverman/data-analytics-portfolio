{
 "cells": [
  {
   "cell_type": "markdown",
   "id": "b0918b64",
   "metadata": {},
   "source": [
    "Angelo's Pizza Activity: The purpose of this activity is to calculate the price of a custom-made pizza. \n",
    "- Base pizza (1 sauce + 1 cheese + 1 glaze) = 8 dollars. \n",
    "- Every additional topping = 0.50 dollars. \n",
    "- Therefore, if you order a pizza, the price in dollars will be: price = 8 + 0.5X, where x = the number of toppings. \n",
    "\n",
    "There are many versions of this code as I work through remembering/learning python. The best versions are probably the last ones. "
   ]
  },
  {
   "cell_type": "markdown",
   "id": "5ccd72de",
   "metadata": {},
   "source": [
    "<font size=\"3\"><b>This is V1 of my code. It is the simplest implementation of the program.</b></font> "
   ]
  },
  {
   "cell_type": "code",
   "execution_count": 390,
   "id": "fcb621dc",
   "metadata": {},
   "outputs": [],
   "source": [
    "# num_toppings = 4 \n",
    "# price_toppings = 0.5\n",
    "# price_base = 8\n",
    "# price_total = price_base + price_toppings * num_toppings\n",
    "\n",
    "# print(price_total)"
   ]
  },
  {
   "cell_type": "markdown",
   "id": "5f00bae2",
   "metadata": {},
   "source": [
    "<font size=\"3\"><b>This is V2 of my code. It takes user input and interacts with the customer.</b></font> "
   ]
  },
  {
   "cell_type": "code",
   "execution_count": 243,
   "id": "be21918e",
   "metadata": {},
   "outputs": [],
   "source": [
    "# # BASIC ORDER \n",
    "# sauce_order = input(\"Pick a sauce: red, white, or pesto.\")\n",
    "# cheese_order = input(\"Pick a cheese: mozzarella, feta, or ricotta.\")\n",
    "# glaze_order = input(\"Pick a glaze: olive oil or balsamic.\")"
   ]
  },
  {
   "cell_type": "code",
   "execution_count": 244,
   "id": "69210070",
   "metadata": {},
   "outputs": [],
   "source": [
    "# # TOPPINGS ORDER\n",
    "# topping_num = int(input(\"How many toppings would you like? Your options are: olives, mushrooms, peppers, pepperoni, sausage, meatballs, arugula, and prosciutto. Please enter a number to start.\"))\n",
    "# toppings = []\n",
    "# while (topping_num>0):\n",
    "#     toppings.append(input(\"Enter one of your \"+ str(topping_num) + \" remaining toppings.\"))\n",
    "#     topping_num -= 1\n",
    "\n"
   ]
  },
  {
   "cell_type": "code",
   "execution_count": 245,
   "id": "3443f74f",
   "metadata": {},
   "outputs": [],
   "source": [
    "# # DOUBLE CHECK ORDER WITH CUSTOMER\n",
    "# print(\"You have ordered one \"+ cheese_order + \" cheese pizza with \" + sauce_order + \" sauce and \" + glaze_order + \" glaze with \")\n",
    "# print(*toppings)"
   ]
  },
  {
   "cell_type": "code",
   "execution_count": 246,
   "id": "2de82e0e",
   "metadata": {},
   "outputs": [],
   "source": [
    "# # CALCULATE PRICE \n",
    "# price_toppings = 0.5\n",
    "# price_base = 8\n",
    "# price_total = price_base + price_toppings * len(toppings)\n",
    "# print(price_total)"
   ]
  },
  {
   "cell_type": "markdown",
   "id": "ae6ca456",
   "metadata": {},
   "source": [
    "<font size=\"3\"><b>This is V3 of my code. It uses functions.</b></font> "
   ]
  },
  {
   "cell_type": "code",
   "execution_count": 165,
   "id": "c1ecb289",
   "metadata": {},
   "outputs": [],
   "source": [
    "# # NOTE: toppings must be a list \n",
    "# def calculate_price(sauce, cheese, glaze, toppings):\n",
    "#     price = 8 + len(toppings)*.5\n",
    "#     print(price)\n",
    "    \n",
    "# # test function\n",
    "# calculate_price(\"red\",\"feta\",\"olive oil\", [\"sausage\",\"arugula\",\"sage\"])"
   ]
  },
  {
   "cell_type": "markdown",
   "id": "f577f0f3",
   "metadata": {},
   "source": [
    "<font size=\"3\"><b>This is V4 of my code. It uses classes and objects. It then creates a designated number of pizzas. These pizzas each have random types of cheese, sauce, glaze,a and a random number of randomly-chosen toppings. Finally it exports raw data to a csv file.</b></font> "
   ]
  },
  {
   "cell_type": "code",
   "execution_count": 381,
   "id": "6127fa82",
   "metadata": {},
   "outputs": [],
   "source": [
    "class Pizza: \n",
    "    \n",
    "    def __init__(self, sauce, cheese, glaze, toppings):\n",
    "        self.sauce = sauce\n",
    "        self.cheese = cheese \n",
    "        self.glaze = glaze \n",
    "        self.toppings = toppings \n",
    "             \n",
    "    def calculate_price(self):\n",
    "        price = 8 + 0.5*len(self.toppings)\n",
    "        return price"
   ]
  },
  {
   "cell_type": "code",
   "execution_count": 383,
   "id": "188371de",
   "metadata": {},
   "outputs": [],
   "source": [
    "# create list to store objects \n",
    "order =[]\n",
    "\n",
    "# makes a designated number of pizzas with a random assortment of ingrediants \n",
    "def make_pizzas(num, sauce_list, cheese_list, glaze_list, topping_list):\n",
    "    \n",
    "    for x in range(num):\n",
    "        #pick a random sauces, cheese, glaze, and toppings \n",
    "        random_sauce = sauce_list[random.randint(0,len(sauce)-1)]\n",
    "        random_cheese = cheese_list[random.randint(0,len(cheese)-1)]\n",
    "        random_glaze = glaze_list[random.randint(0,len(glaze)-1)]\n",
    "        random_topping = random.sample(topping_list,random.randint(0,len(topping_list)-1))\n",
    "        \n",
    "        # create an object\n",
    "        pizzax = Pizza(random_sauce, random_cheese, random_glaze, random_topping)\n",
    "        \n",
    "        # store object in order list\n",
    "        order.append(pizzax) "
   ]
  },
  {
   "cell_type": "code",
   "execution_count": 386,
   "id": "e3574398",
   "metadata": {},
   "outputs": [],
   "source": [
    "# EXPORT A CVS FILE OF ALL PIZZAS AND PRICING - must import csv library \n",
    "def export_data(): \n",
    "    with open('pizza_orders.cvs','w', newline='') as file: \n",
    "        writer = csv.writer(file) \n",
    "        for x in range(num_pizzas):\n",
    "            writer.writerow([x,order[x].sauce, order[x].glaze, order[x].cheese, order[x].toppings, order[x].calculate_price()])    "
   ]
  },
  {
   "cell_type": "code",
   "execution_count": 392,
   "id": "2cd40bb8",
   "metadata": {},
   "outputs": [],
   "source": [
    "import random \n",
    "import csv \n",
    "\n",
    "# number of pizzas ordered \n",
    "num_pizzas = 200\n",
    "\n",
    "# types of sauces, cheeses, glazes, and toppings \n",
    "sauce = [\"red\",\"white\",\"pesto\"]\n",
    "cheese = [\"mozzarella\",\"feta\",\"ricotta\"]\n",
    "glaze = [\"olive oil\", \"balsamic\"]\n",
    "toppings = [\"olives\", \"mushrooms\", \"peppers\", \"pepperoni\", \"sausage\", \"meatballs\", \"arugula\", \"prosciutto\"]\n",
    "\n",
    "# call functions\n",
    "make_pizzas(num_pizzas, sauce, cheese, glaze, toppings)\n",
    "export_data()"
   ]
  },
  {
   "cell_type": "code",
   "execution_count": 340,
   "id": "61f3ce6d",
   "metadata": {},
   "outputs": [],
   "source": [
    "# Angelo Pizza wants to know what the top three toppings are over a given day \n",
    "# sudocode: for every pizza, if olives in list of toppings --> olive_count +=1 & if mushrooms in list of toppings --> \n",
    "# mushroom_count +=1. Do for all toppings. Then make a histogram. \n"
   ]
  },
  {
   "cell_type": "code",
   "execution_count": null,
   "id": "c11ac7bc",
   "metadata": {},
   "outputs": [],
   "source": []
  }
 ],
 "metadata": {
  "kernelspec": {
   "display_name": "Python 3 (ipykernel)",
   "language": "python",
   "name": "python3"
  },
  "language_info": {
   "codemirror_mode": {
    "name": "ipython",
    "version": 3
   },
   "file_extension": ".py",
   "mimetype": "text/x-python",
   "name": "python",
   "nbconvert_exporter": "python",
   "pygments_lexer": "ipython3",
   "version": "3.9.7"
  }
 },
 "nbformat": 4,
 "nbformat_minor": 5
}
